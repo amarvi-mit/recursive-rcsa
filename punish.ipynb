{
 "cells": [
  {
   "cell_type": "code",
   "execution_count": 5,
   "metadata": {},
   "outputs": [],
   "source": [
    "import ipywidgets as widgets\n",
    "from IPython.display import display, clear_output, HTML\n",
    "import colorsys\n",
    "import random\n",
    "import csv\n",
    "import matplotlib.pyplot as plt\n",
    "import numpy as np\n",
    "import seaborn as sns"
   ]
  },
  {
   "cell_type": "code",
   "execution_count": 127,
   "metadata": {},
   "outputs": [
    {
     "data": {
      "application/vnd.jupyter.widget-view+json": {
       "model_id": "618350b5e07a4e059921d4b7022a6ee3",
       "version_major": 2,
       "version_minor": 0
      },
      "text/plain": [
       "IntText(value=1, description='Enter a number from 1 to 7:')"
      ]
     },
     "metadata": {},
     "output_type": "display_data"
    },
    {
     "data": {
      "application/vnd.jupyter.widget-view+json": {
       "model_id": "637adbe4d11d49b285061e99f261e06f",
       "version_major": 2,
       "version_minor": 0
      },
      "text/plain": [
       "Button(description='Submit', style=ButtonStyle())"
      ]
     },
     "metadata": {},
     "output_type": "display_data"
    }
   ],
   "source": [
    "# Create widgets\n",
    "input_number = widgets.IntText(value=1, description=\"Enter a number from 1 to 7:\")\n",
    "button = widgets.Button(description=\"Submit\")\n",
    "\n",
    "# Set up event handler\n",
    "button.on_click(on_button_click)"
   ]
  },
  {
   "cell_type": "code",
   "execution_count": 6,
   "metadata": {},
   "outputs": [
    {
     "data": {
      "text/plain": [
       "[0.001836935537758655,\n",
       " 0.35885478367080603,\n",
       " 0.07558826988151979,\n",
       " 0.30819155633285666,\n",
       " 0.6888050304314739,\n",
       " 0.4282241513009991,\n",
       " 0.02193519881295125,\n",
       " 0.2449853465709011,\n",
       " 0.4929299552955416,\n",
       " 0.9844767419775557,\n",
       " 0.770000718683706,\n",
       " 0.6485052102544886,\n",
       " 0.23786533499153328,\n",
       " 0.5219461311068445,\n",
       " 0.096384120405125,\n",
       " 0.5554367024510498,\n",
       " 0.8624867402730965,\n",
       " 0.44554580909943187,\n",
       " 0.8251778252217481,\n",
       " 0.40288645319356764,\n",
       " 0.6901004023544043,\n",
       " 0.7676336917083041,\n",
       " 0.6393331106171294,\n",
       " 0.25722543021706556,\n",
       " 0.2694793635227183,\n",
       " 0.7617844712050561,\n",
       " 0.938091445875821,\n",
       " 0.6045769780839391,\n",
       " 0.36627099161215426,\n",
       " 0.013165693947010282,\n",
       " 0.8207586611632482,\n",
       " 0.8071221526370747,\n",
       " 0.4663727903999121,\n",
       " 0.6980365222807966,\n",
       " 0.23661629216531566,\n",
       " 0.25627090273077346,\n",
       " 0.6982749363449707,\n",
       " 0.20789771897541431,\n",
       " 0.7148603751076833,\n",
       " 0.00949037936995778,\n",
       " 0.7200387967729143,\n",
       " 0.6565974450457395,\n",
       " 0.5538161343611395,\n",
       " 0.49236859384627674,\n",
       " 0.6434146673098462,\n",
       " 0.1117289740011631,\n",
       " 0.4083668449633653,\n",
       " 0.9039794287202698,\n",
       " 0.8578117179952469,\n",
       " 0.9696956965345782,\n",
       " 0.7392830062546044,\n",
       " 0.1899895505457151,\n",
       " 0.8054177417818291,\n",
       " 0.3038859593027492,\n",
       " 0.652505277710655,\n",
       " 0.6843087042281155,\n",
       " 0.4184657070148651,\n",
       " 0.7782130826767912,\n",
       " 0.972959607265764,\n",
       " 0.35233883319558956]"
      ]
     },
     "execution_count": 6,
     "metadata": {},
     "output_type": "execute_result"
    }
   ],
   "source": [
    "#np.save('wrongness.npy', nums2)\n",
    "\n",
    "vals = list(np.load('wrongness.npy'))\n",
    "vals"
   ]
  },
  {
   "cell_type": "code",
   "execution_count": 2,
   "metadata": {},
   "outputs": [],
   "source": [
    "subj = 1"
   ]
  },
  {
   "cell_type": "markdown",
   "metadata": {},
   "source": [
    "You are a judge making decisions over many cases, all of which have been proven guilty. You are now tasked with choosing their punishment. Importantly, your choice will remain completely anonymous.  If you decide to punish you either incur some cost or gain some reward, seemingly randomly. Each case is represented simply by the colored circle above, "
   ]
  },
  {
   "cell_type": "markdown",
   "metadata": {},
   "source": [
    "You are a judge making decisions over many cases, all of which have been proven guilty. You are now tasked with choosing whether or not to punish them. Importantly, your choice and all the details about the case are known and observed by a group of your peers whose opinions you care about. \n",
    "\n",
    "If you decide to punish you are completely unaffected. These criminals, seemingly randomly, have all committed crimes of different wrongness. Each case is represented simply by the colored circle above, with the color relative to how  wrong (red) or not wrong at all (green) the crime is. \n",
    "\n",
    "For each of the following cases, rate how likely you are to punish the criminal on a scale of 1 (definitely not punish) to 7 (definitely punish):"
   ]
  },
  {
   "cell_type": "code",
   "execution_count": 7,
   "metadata": {},
   "outputs": [
    {
     "data": {
      "image/png": "[encoded data removed]",
      "text/plain": [
       "<Figure size 360x360 with 2 Axes>"
      ]
     },
     "metadata": {},
     "output_type": "display_data"
    }
   ],
   "source": [
    "old_col = 10\n",
    "def save_to_csv(data):\n",
    "    global subj\n",
    "    with open(\"subj_data/subj_%02d.csv\" % subj, mode=\"a\", newline=\"\") as file:\n",
    "        writer = csv.writer(file)\n",
    "        writer.writerow(data)\n",
    "\n",
    "def gen_circle(b):\n",
    "\n",
    "    global circle_counter\n",
    "    global old_col\n",
    "    if circle_counter >= 51:\n",
    "        print(\"Maximum number of circles reached. Stopping.\")\n",
    "        return\n",
    "    # Clear previous output\n",
    "    clear_output(wait=True)\n",
    "    ans = input_number.value\n",
    "    # Generate a random color from the RdYlGn colormap\n",
    "    new_col = vals[circle_counter]\n",
    "\n",
    "    fig, ax = plt.subplots(figsize=(5, 5))\n",
    "    circle = plt.Circle((0.5, 0.5), 0.4, color=plt.cm.RdYlGn(new_col))\n",
    "    ax.add_patch(circle)\n",
    "    ax.set_xticks([])\n",
    "    ax.set_yticks([])\n",
    "    ax.set_xticklabels([])\n",
    "    ax.set_yticklabels([])\n",
    "\n",
    "    # # Display the colorbar below the circle\n",
    "    cax = fig.add_axes([0.1, -0.1, 0.8, 0.05])  # [left, bottom, width, height]\n",
    "    cbar = plt.colorbar(plt.cm.ScalarMappable(cmap=\"RdYlGn\"), cax=cax, orientation='horizontal', ticks=[], label='Cost')\n",
    "    sns.despine(fig, left=True, bottom=True)\n",
    "\n",
    "    # Show the plot\n",
    "    plt.show()\n",
    "\n",
    "    save_to_csv([old_col, ans])\n",
    "    circle_counter += 1\n",
    "    old_col = new_col\n",
    "\n",
    "# Create widgets\n",
    "input_number = widgets.IntSlider(value=4, min=1, max=7)\n",
    "button = widgets.Button(description=\"Submit\")\n",
    "\n",
    "# Set up event handler\n",
    "button.on_click(gen_circle)\n",
    "\n",
    "gen_circle(None)"
   ]
  },
  {
   "cell_type": "markdown",
   "metadata": {},
   "source": [
    "You are a judge making decisions over many cases, all of which have been proven guilty. You are now tasked with choosing whether or not to punish them. Importantly, your choice and all the details about the case are known and observed by a group of your peers whose opinions you care about. \n",
    "\n",
    "These criminals have all committed similar crimes, and the punishment is proportinal to the crime comitted. If you decide to punish you either incur some cost or gain some reward, seemingly randomly. Each case is represented simply by the colored circle above, with the color relative to how much cost (red) or reward (green) you receive. \n",
    "\n",
    "For each of the following cases, rate how likely you are to punish the criminal on a scale of 1 (definitely not punish) to 7 (definitely punish):"
   ]
  },
  {
   "cell_type": "code",
   "execution_count": 8,
   "metadata": {},
   "outputs": [
    {
     "data": {
      "application/vnd.jupyter.widget-view+json": {
       "model_id": "a49006a2d75c4403842b662d5733eace",
       "version_major": 2,
       "version_minor": 0
      },
      "text/plain": [
       "IntSlider(value=4, max=7, min=1)"
      ]
     },
     "metadata": {},
     "output_type": "display_data"
    },
    {
     "data": {
      "application/vnd.jupyter.widget-view+json": {
       "model_id": "5c7419d0868448a399211bc49e3e18eb",
       "version_major": 2,
       "version_minor": 0
      },
      "text/plain": [
       "Button(description='Submit', style=ButtonStyle())"
      ]
     },
     "metadata": {},
     "output_type": "display_data"
    }
   ],
   "source": [
    "circle_counter = 0\n",
    "old_ans = 10\n",
    "subj += 1\n",
    "\n",
    "# Display widgets\n",
    "display(input_number)\n",
    "display(button)"
   ]
  }
 ],
 "metadata": {
  "kernelspec": {
   "display_name": "cv",
   "language": "python",
   "name": "python3"
  },
  "language_info": {
   "codemirror_mode": {
    "name": "ipython",
    "version": 3
   },
   "file_extension": ".py",
   "mimetype": "text/x-python",
   "name": "python",
   "nbconvert_exporter": "python",
   "pygments_lexer": "ipython3",
   "version": "3.8.8"
  }
 },
 "nbformat": 4,
 "nbformat_minor": 2
}
